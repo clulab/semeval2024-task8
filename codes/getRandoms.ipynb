{
 "cells": [
  {
   "cell_type": "code",
   "execution_count": 1,
   "id": "f20e0786-b643-49ff-9b3c-806fcacc2bb4",
   "metadata": {},
   "outputs": [
    {
     "name": "stderr",
     "output_type": "stream",
     "text": [
      "Found cached dataset json (/Users/mhrezaei/.cache/huggingface/datasets/json/default-b6dc2b7a52ca4c92/0.0.0/0f7e3662623656454fcd2b650f34e886a7db4b9104504885bd462096cc7a9f51)\n"
     ]
    },
    {
     "data": {
      "text/plain": [
       "\"\\ndev = load_dataset('json', data_files='../datasets/SubtaskB/subtaskB_dev.jsonl', split='train')\\ntest = load_dataset('json', data_files='../datasets/SubtaskB/subtaskB_test.jsonl', split='train')\\n\""
      ]
     },
     "execution_count": 1,
     "metadata": {},
     "output_type": "execute_result"
    }
   ],
   "source": [
    "import random\n",
    "random.seed(68)\n",
    "\n",
    "from datasets import load_dataset, Dataset\n",
    "import spacy\n",
    "nlp = spacy.load(\"en_core_web_sm\")\n",
    "\n",
    "\n",
    "train = load_dataset('json', data_files='../datasets/SubtaskB/subtaskB_train.jsonl', split='train')\n",
    "'''\n",
    "dev = load_dataset('json', data_files='../datasets/SubtaskB/subtaskB_dev.jsonl', split='train')\n",
    "test = load_dataset('json', data_files='../datasets/SubtaskB/subtaskB_test.jsonl', split='train')\n",
    "'''\n",
    "# choose 4k from each label in train\n",
    "\n"
   ]
  },
  {
   "cell_type": "code",
   "execution_count": 2,
   "id": "97bf2b60-d1f8-4909-b103-31c97f066819",
   "metadata": {},
   "outputs": [
    {
     "data": {
      "text/plain": [
       "Dataset({\n",
       "    features: ['text', 'model', 'source', 'label', 'id'],\n",
       "    num_rows: 71027\n",
       "})"
      ]
     },
     "execution_count": 2,
     "metadata": {},
     "output_type": "execute_result"
    }
   ],
   "source": [
    "train"
   ]
  },
  {
   "cell_type": "code",
   "execution_count": 3,
   "id": "29cb9c3f-9668-43d1-b60d-6357f02fc11d",
   "metadata": {},
   "outputs": [
    {
     "data": {
      "text/plain": [
       "{0, 1, 2, 3, 4, 5}"
      ]
     },
     "execution_count": 3,
     "metadata": {},
     "output_type": "execute_result"
    }
   ],
   "source": [
    "set(train['label'])"
   ]
  },
  {
   "cell_type": "code",
   "execution_count": 6,
   "id": "445c6e00-71fd-4637-8283-5433300da18b",
   "metadata": {},
   "outputs": [
    {
     "data": {
      "application/vnd.jupyter.widget-view+json": {
       "model_id": "",
       "version_major": 2,
       "version_minor": 0
      },
      "text/plain": [
       "Filter:   0%|          | 0/24000 [00:00<?, ? examples/s]"
      ]
     },
     "metadata": {},
     "output_type": "display_data"
    },
    {
     "data": {
      "application/vnd.jupyter.widget-view+json": {
       "model_id": "",
       "version_major": 2,
       "version_minor": 0
      },
      "text/plain": [
       "Filter:   0%|          | 0/24000 [00:00<?, ? examples/s]"
      ]
     },
     "metadata": {},
     "output_type": "display_data"
    },
    {
     "data": {
      "application/vnd.jupyter.widget-view+json": {
       "model_id": "",
       "version_major": 2,
       "version_minor": 0
      },
      "text/plain": [
       "Filter:   0%|          | 0/24000 [00:00<?, ? examples/s]"
      ]
     },
     "metadata": {},
     "output_type": "display_data"
    },
    {
     "data": {
      "application/vnd.jupyter.widget-view+json": {
       "model_id": "",
       "version_major": 2,
       "version_minor": 0
      },
      "text/plain": [
       "Filter:   0%|          | 0/24000 [00:00<?, ? examples/s]"
      ]
     },
     "metadata": {},
     "output_type": "display_data"
    },
    {
     "data": {
      "application/vnd.jupyter.widget-view+json": {
       "model_id": "",
       "version_major": 2,
       "version_minor": 0
      },
      "text/plain": [
       "Filter:   0%|          | 0/24000 [00:00<?, ? examples/s]"
      ]
     },
     "metadata": {},
     "output_type": "display_data"
    },
    {
     "data": {
      "application/vnd.jupyter.widget-view+json": {
       "model_id": "",
       "version_major": 2,
       "version_minor": 0
      },
      "text/plain": [
       "Filter:   0%|          | 0/24000 [00:00<?, ? examples/s]"
      ]
     },
     "metadata": {},
     "output_type": "display_data"
    },
    {
     "name": "stdout",
     "output_type": "stream",
     "text": [
      "Dataset({\n",
      "    features: ['text', 'model', 'source', 'label', 'id'],\n",
      "    num_rows: 24000\n",
      "})\n"
     ]
    }
   ],
   "source": [
    "# choose 4k from each label in train\n",
    "train = train.shuffle(seed=68)\n",
    "label_0 = train.filter(lambda example: example['label'] == 0).select(range(4000))\n",
    "label_1 = train.filter(lambda example: example['label'] == 1).select(range(4000))\n",
    "label_2 = train.filter(lambda example: example['label'] == 2).select(range(4000))\n",
    "label_3 = train.filter(lambda example: example['label'] == 3).select(range(4000))\n",
    "label_4 = train.filter(lambda example: example['label'] == 4).select(range(4000))\n",
    "label_5 = train.filter(lambda example: example['label'] == 5).select(range(4000))\n",
    "from datasets import concatenate_datasets\n",
    "train = concatenate_datasets([label_0, label_1, label_2, label_3, label_4, label_5])\n",
    "train = train.shuffle(seed=69)\n",
    "print(train)"
   ]
  },
  {
   "cell_type": "code",
   "execution_count": 9,
   "id": "e8c65215",
   "metadata": {},
   "outputs": [
    {
     "name": "stderr",
     "output_type": "stream",
     "text": [
      "Loading cached processed dataset at /Users/mhrezaei/.cache/huggingface/datasets/json/default-b6dc2b7a52ca4c92/0.0.0/0f7e3662623656454fcd2b650f34e886a7db4b9104504885bd462096cc7a9f51/cache-8a00285ff9b18aa4.arrow\n"
     ]
    },
    {
     "data": {
      "application/vnd.jupyter.widget-view+json": {
       "model_id": "",
       "version_major": 2,
       "version_minor": 0
      },
      "text/plain": [
       "Saving the dataset (0/1 shards):   0%|          | 0/24000 [00:00<?, ? examples/s]"
      ]
     },
     "metadata": {},
     "output_type": "display_data"
    }
   ],
   "source": [
    "# save as a json file\n",
    "train.save_to_disk('../datasets/SubtaskB/train')"
   ]
  },
  {
   "cell_type": "code",
   "execution_count": null,
   "id": "1c4ba552-ed8f-494b-8c2e-842c4cbdb05a",
   "metadata": {},
   "outputs": [],
   "source": []
  }
 ],
 "metadata": {
  "kernelspec": {
   "display_name": "Python 3 (ipykernel)",
   "language": "python",
   "name": "python3"
  },
  "language_info": {
   "codemirror_mode": {
    "name": "ipython",
    "version": 3
   },
   "file_extension": ".py",
   "mimetype": "text/x-python",
   "name": "python",
   "nbconvert_exporter": "python",
   "pygments_lexer": "ipython3",
   "version": "3.10.6"
  }
 },
 "nbformat": 4,
 "nbformat_minor": 5
}
